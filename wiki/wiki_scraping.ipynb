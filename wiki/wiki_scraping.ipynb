{
  "nbformat": 4,
  "nbformat_minor": 0,
  "metadata": {
    "colab": {
      "name": "wiki_scraping.ipynb",
      "provenance": [],
      "authorship_tag": "ABX9TyNaxEnxtfqfqe+blKUYfTTt",
      "include_colab_link": true
    },
    "kernelspec": {
      "display_name": "Python 3",
      "name": "python3"
    },
    "language_info": {
      "name": "python"
    }
  },
  "cells": [
    {
      "cell_type": "markdown",
      "metadata": {
        "id": "view-in-github",
        "colab_type": "text"
      },
      "source": [
        "<a href=\"https://colab.research.google.com/github/tndhk/learn-python/blob/master/wiki/wiki_scraping.ipynb\" target=\"_parent\"><img src=\"https://colab.research.google.com/assets/colab-badge.svg\" alt=\"Open In Colab\"/></a>"
      ]
    },
    {
      "cell_type": "code",
      "metadata": {
        "colab": {
          "base_uri": "https://localhost:8080/"
        },
        "id": "i3vWEhdRjEK7",
        "outputId": "1e128192-5f6b-4abd-e840-f05c6d8dd675"
      },
      "source": [
        "import pandas as pd\n",
        "import re\n",
        "import requests\n",
        "import time\n",
        "import json\n",
        "from bs4 import BeautifulSoup\n",
        "\n",
        "from google.colab import drive\n",
        "drive.mount('/content/drive')"
      ],
      "execution_count": null,
      "outputs": [
        {
          "output_type": "stream",
          "text": [
            "Mounted at /content/drive\n"
          ],
          "name": "stdout"
        }
      ]
    },
    {
      "cell_type": "markdown",
      "metadata": {
        "id": "AhItlGXuq0tV"
      },
      "source": [
        "共通処理群"
      ]
    },
    {
      "cell_type": "code",
      "metadata": {
        "id": "SQ9pL8aR-3m5"
      },
      "source": [
        "api_base_url = 'https://wikimedia.org/api/rest_v1/metrics/pageviews/per-article/ja.wikipedia.org/all-access/all-agents/'\n",
        "start_date = '20200101'\n",
        "end_date = '20210610'"
      ],
      "execution_count": null,
      "outputs": []
    },
    {
      "cell_type": "code",
      "metadata": {
        "id": "4TimFdoHqCSJ"
      },
      "source": [
        "# scrapingするURLを受け取り、BeautifulSoupオブジェクトを返す\n",
        "def get_html_bs(url):\n",
        "  response = requests.get(start_url)\n",
        "  response.encoding = response.apparent_encoding\n",
        "  bs = BeautifulSoup(response.text, 'html.parser')\n",
        "  return bs"
      ],
      "execution_count": null,
      "outputs": []
    },
    {
      "cell_type": "code",
      "metadata": {
        "id": "YNZ6wGxT-odd"
      },
      "source": [
        "# list(wikiのpage名）を受け取り、ひたすらapiを呼ぶ。マナー上、1秒1回送信にしている。\n",
        "# headerのMLは利用者のアドレス(api使いすぎた時に連絡が来る模様) \n",
        "def call_api(input_list):\n",
        "  json_list = []\n",
        "  headers = {\n",
        "    'Accept': 'application/json; charset=utf-8',\n",
        "    'User-Agent': 'baggio0707@yahoo.co.jp'\n",
        "    }\n",
        "\n",
        "  for row in input_list:\n",
        "    param = row.rstrip()\n",
        "    url = api_base_url + param + '/daily/' + start_date + '/' + end_date\n",
        "    res = requests.get(url, headers=headers)\n",
        "    res = json.loads(res.text)\n",
        "    json_list.append(res)\n",
        "    time.sleep(1)\n",
        "  return json_list"
      ],
      "execution_count": null,
      "outputs": []
    },
    {
      "cell_type": "code",
      "metadata": {
        "id": "n0H82N_LExuV"
      },
      "source": [
        "# jsonをpandasのdata frameに変換し、必要なカラムをCSVに吐き出す\n",
        "def write_csv_from_df(json_list, output_file):\n",
        "  df = pd.DataFrame(columns=['project','article','granularity','timestamp','access','agent','views'])\n",
        "\n",
        "  for i in json_list:\n",
        "    try:\n",
        "      df = pd.concat([df, pd.DataFrame(i['items'])])\n",
        "    except:\n",
        "      continue\n",
        "\n",
        "  df = df[['article','timestamp','views']]\n",
        "\n",
        "  df.to_csv(output_file)"
      ],
      "execution_count": null,
      "outputs": []
    },
    {
      "cell_type": "markdown",
      "metadata": {
        "id": "7ANmBfWEv_vl"
      },
      "source": [
        "**日本の監督**"
      ]
    },
    {
      "cell_type": "code",
      "metadata": {
        "id": "Zg3UvWxjjG2u"
      },
      "source": [
        "# 監督取得の処理\n",
        "start_url = 'https://ja.wikipedia.org/wiki/%E6%97%A5%E6%9C%AC%E3%81%AE%E6%98%A0%E7%94%BB%E7%9B%A3%E7%9D%A3%E4%B8%80%E8%A6%A7'\n",
        "output_file = '/content/drive/MyDrive/Colab Notebooks/output/director.csv'\n"
      ],
      "execution_count": null,
      "outputs": []
    },
    {
      "cell_type": "code",
      "metadata": {
        "id": "GRb8ct8vwM9n"
      },
      "source": [
        "bs = get_html_bs(start_url)\n",
        "\n",
        "director_url_list = []\n",
        "\n",
        "parsed = bs.select('div.mw-parser-output')\n",
        "parsed = parsed[0].select('li')\n",
        "\n",
        "#for i in range(0,len(parsed)):\n",
        "for i in range(1,10):\n",
        "  try:\n",
        "    a = parsed[i]\n",
        "    a = a.find('a')['href']\n",
        "    a = a.replace('/wiki/', '')\n",
        "    \n",
        "    if 'redlink=1' in a:\n",
        "      continue\n",
        "  \n",
        "  except:\n",
        "    continue\n",
        "  director_url_list.append(a)"
      ],
      "execution_count": null,
      "outputs": []
    },
    {
      "cell_type": "code",
      "metadata": {
        "colab": {
          "background_save": true
        },
        "id": "kPGa6i2AwPT7"
      },
      "source": [
        "final_list = call_api(director_url_list)"
      ],
      "execution_count": null,
      "outputs": []
    },
    {
      "cell_type": "code",
      "metadata": {
        "colab": {
          "background_save": true
        },
        "id": "14bsoSovEwTD"
      },
      "source": [
        "write_csv_from_df(final_list, output_file)"
      ],
      "execution_count": null,
      "outputs": []
    },
    {
      "cell_type": "markdown",
      "metadata": {
        "id": "fhHnNrRsoiTC"
      },
      "source": [
        "**日本のテレビドラマ一覧**"
      ]
    },
    {
      "cell_type": "code",
      "metadata": {
        "id": "WbviPyCMotDg"
      },
      "source": [
        "start_url = 'https://ja.wikipedia.org/wiki/%E6%97%A5%E6%9C%AC%E3%81%AE%E3%83%86%E3%83%AC%E3%83%93%E3%83%89%E3%83%A9%E3%83%9E%E4%B8%80%E8%A6%A7'\n",
        "output_file = '/content/drive/MyDrive/Colab Notebooks/output/JapaneseTVDrama.csv'\n"
      ],
      "execution_count": null,
      "outputs": []
    },
    {
      "cell_type": "code",
      "metadata": {
        "id": "3FE0Q2nIo_ZL"
      },
      "source": [
        "bs = get_html_bs(start_url)\n",
        "\n",
        "japanese_drama_url_list = []\n",
        "\n",
        "parsed = bs.select('div.mw-parser-output')\n",
        "parsed = parsed[0].select('li')\n",
        "\n",
        "#for i in range(0,len(parsed)):\n",
        "for i in range(0,10):\n",
        "  a = parsed[i]\n",
        "  try:\n",
        "    a = a.find('a')['href']\n",
        "    a = a.replace('/wiki/', '')\n",
        "  except:\n",
        "    continue\n",
        "  japanese_drama_url_list.append(a)"
      ],
      "execution_count": null,
      "outputs": []
    },
    {
      "cell_type": "code",
      "metadata": {
        "id": "BBsdqRyQpsci"
      },
      "source": [
        "final_list = call_api(japanese_drama_url_list)"
      ],
      "execution_count": null,
      "outputs": []
    },
    {
      "cell_type": "code",
      "metadata": {
        "id": "fmoYkh28pSy2"
      },
      "source": [
        "write_csv_from_df(final_list, output_file)"
      ],
      "execution_count": null,
      "outputs": []
    },
    {
      "cell_type": "markdown",
      "metadata": {
        "id": "7NgCSzvt9Tl4"
      },
      "source": [
        "**アメリカのテレビドラマ一覧**"
      ]
    },
    {
      "cell_type": "code",
      "metadata": {
        "id": "tiYfVtfs_6fy"
      },
      "source": [
        "start_url = 'https://ja.wikipedia.org/wiki/%E3%82%A2%E3%83%A1%E3%83%AA%E3%82%AB%E5%90%88%E8%A1%86%E5%9B%BD%E3%81%AE%E3%83%86%E3%83%AC%E3%83%93%E3%83%89%E3%83%A9%E3%83%9E%E4%B8%80%E8%A6%A7'\n",
        "output_file = '/content/drive/MyDrive/Colab Notebooks/output/US_TVDrama.csv'\n",
        "\n"
      ],
      "execution_count": null,
      "outputs": []
    },
    {
      "cell_type": "code",
      "metadata": {
        "id": "mo-AAiTNALfs"
      },
      "source": [
        "bs = get_html_bs(start_url)\n",
        "\n",
        "us_drama_url_list = []\n",
        "\n",
        "parsed = bs.select('div.mw-parser-output')\n",
        "parsed = parsed[0].select('li')\n",
        "\n",
        "#for i in range(0,10):\n",
        "for i in range(0,len(parsed)):\n",
        "  try:\n",
        "    a = parsed[i]\n",
        "    a = a.find('a')['href']\n",
        "    a = a.replace('/wiki/', '')\n",
        "    \n",
        "    if 'redlink=1' in a:\n",
        "      continue\n",
        "  except:\n",
        "    continue\n",
        "  us_drama_url_list.append(a)"
      ],
      "execution_count": null,
      "outputs": []
    },
    {
      "cell_type": "code",
      "metadata": {
        "colab": {
          "background_save": true
        },
        "id": "ObVUS399AOrA"
      },
      "source": [
        "final_list = call_api(us_drama_url_list)"
      ],
      "execution_count": null,
      "outputs": []
    },
    {
      "cell_type": "code",
      "metadata": {
        "colab": {
          "background_save": true
        },
        "id": "y0PkWGaCCPF6"
      },
      "source": [
        "#print(final_list)\n",
        "write_csv_from_df(final_list, output_file)"
      ],
      "execution_count": null,
      "outputs": []
    },
    {
      "cell_type": "markdown",
      "metadata": {
        "id": "_w0quGNHwDaC"
      },
      "source": [
        "日本のテレビアニメ\n"
      ]
    },
    {
      "cell_type": "code",
      "metadata": {
        "id": "bhduNye5CmEg"
      },
      "source": [
        "# 2020年代前半\n",
        "#start_url = 'https://ja.wikipedia.org/wiki/%E6%97%A5%E6%9C%AC%E3%81%AE%E3%83%86%E3%83%AC%E3%83%93%E3%82%A2%E3%83%8B%E3%83%A1%E4%BD%9C%E5%93%81%E4%B8%80%E8%A6%A7_(2020%E5%B9%B4%E4%BB%A3_%E5%89%8D%E5%8D%8A)'\n",
        "#output_file = '/content/drive/MyDrive/Colab Notebooks/output/Japan_anime_2020_1.csv'\n",
        "\n",
        "#　2010年代後半\n",
        "#start_url = 'https://ja.wikipedia.org/wiki/%E6%97%A5%E6%9C%AC%E3%81%AE%E3%83%86%E3%83%AC%E3%83%93%E3%82%A2%E3%83%8B%E3%83%A1%E4%BD%9C%E5%93%81%E4%B8%80%E8%A6%A7_(2010%E5%B9%B4%E4%BB%A3_%E5%BE%8C%E5%8D%8A)'\n",
        "#output_file = '/content/drive/MyDrive/Colab Notebooks/output/Japan_anime_2010_2.csv'\n",
        "\n",
        "# 2010年代前半\n",
        "start_url = 'https://ja.wikipedia.org/wiki/%E6%97%A5%E6%9C%AC%E3%81%AE%E3%83%86%E3%83%AC%E3%83%93%E3%82%A2%E3%83%8B%E3%83%A1%E4%BD%9C%E5%93%81%E4%B8%80%E8%A6%A7_(2010%E5%B9%B4%E4%BB%A3_%E5%89%8D%E5%8D%8A)'\n",
        "output_file = '/content/drive/MyDrive/Colab Notebooks/output/Japan_anime_2010_1.csv'\n"
      ],
      "execution_count": null,
      "outputs": []
    },
    {
      "cell_type": "code",
      "metadata": {
        "id": "G5R-cTNUwU8o"
      },
      "source": [
        "bs = get_html_bs(start_url)\n",
        "\n",
        "jp_anime_url_list = []\n",
        "\n",
        "parsed = bs.findAll('table', {'class': 'wikitable'})\n",
        "\n",
        "for i in range(1):\n",
        "#for i in range(0,len(parsed)):\n",
        "  for tr in parsed[i].findAll('tr'):\n",
        "    try:\n",
        "      a = tr.find('a')['href']\n",
        "      a = a.replace('/wiki/', '')\n",
        "      if  'redlink = 1' in a :\n",
        "        continue\n",
        "    except:\n",
        "      continue\n",
        "\n",
        "    jp_anime_url_list.append(a)"
      ],
      "execution_count": null,
      "outputs": []
    },
    {
      "cell_type": "code",
      "metadata": {
        "id": "xkrjDbBRwikS"
      },
      "source": [
        "final_list = call_api(jp_anime_url_list)"
      ],
      "execution_count": null,
      "outputs": []
    },
    {
      "cell_type": "code",
      "metadata": {
        "id": "Oo6oru8q8Tpi"
      },
      "source": [
        "write_csv_from_df(final_list, output_file)"
      ],
      "execution_count": null,
      "outputs": []
    },
    {
      "cell_type": "code",
      "metadata": {
        "id": "WLpmwFzFyDOc"
      },
      "source": [
        ""
      ],
      "execution_count": null,
      "outputs": []
    }
  ]
}